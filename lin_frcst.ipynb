{
 "cells": [
  {
   "cell_type": "code",
   "execution_count": null,
   "id": "abroad-louis",
   "metadata": {},
   "outputs": [],
   "source": [
    "import matplotlib.pyplot as plt\n",
    "import pandas as pd\n",
    "import seaborn as sns\n",
    "from sklearn.linear_model import LinearRegression\n",
    "from sklearn.preprocessing import MinMaxScaler"
   ]
  },
  {
   "cell_type": "code",
   "execution_count": null,
   "id": "seeing-charles",
   "metadata": {},
   "outputs": [],
   "source": [
    "sns.set_style(\"darkgrid\")\n",
    "sns.set_context(\"talk\")"
   ]
  },
  {
   "cell_type": "code",
   "execution_count": null,
   "id": "floral-waters",
   "metadata": {},
   "outputs": [],
   "source": [
    "def fig_number_gen():\n",
    "    \"\"\"generator that will yield 0 to inf    \n",
    "    \"\"\"\n",
    "    num = 0\n",
    "    while True:\n",
    "        yield num\n",
    "        num += 1\n",
    "\n",
    "\n",
    "fig_num = fig_number_gen()"
   ]
  },
  {
   "cell_type": "code",
   "execution_count": null,
   "id": "included-fisher",
   "metadata": {},
   "outputs": [],
   "source": [
    "# loading time-series data\n",
    "df = pd.read_csv(\n",
    "    \"https://raw.githubusercontent.com/facebook/prophet/master/examples/example_wp_log_peyton_manning.csv\"\n",
    ")\n",
    "print(df.head())\n",
    "print(df.info())\n",
    "\n",
    "# set ds as the time index\n",
    "df.index = pd.to_datetime(df[\"ds\"])\n",
    "df = df.drop(columns=\"ds\")\n",
    "\n",
    "print(df.head())\n",
    "print(df.info())"
   ]
  },
  {
   "cell_type": "code",
   "execution_count": null,
   "id": "maritime-cloud",
   "metadata": {},
   "outputs": [],
   "source": [
    "plt.figure(figsize=(16, 10))\n",
    "plt.plot_date(x=df.index, y=df, fmt=\"-\", label=\"input\")\n",
    "plt.legend()\n",
    "plt.ylim(top=plt.ylim()[1] * 1.1)  # stretching the top of the plot by 10%\n",
    "plt.title(\n",
    "    f\"full time series from {df.index[0]:'%Y-%m-%d'} to {df.index[-1]:'%Y-%m-%d'}\"\n",
    ")\n",
    "plt.savefig(f\"figs/{next(fig_num)}_full_time_series.png\")\n",
    "plt.show();"
   ]
  },
  {
   "cell_type": "code",
   "execution_count": null,
   "id": "intermediate-channel",
   "metadata": {},
   "outputs": [],
   "source": [
    "# subsetting the data\n",
    "df_sub = df.loc[\"01-01-2011\":\"31-12-2014\"]\n",
    "df_test = df.loc[\"31-12-2014\":]"
   ]
  },
  {
   "cell_type": "code",
   "execution_count": null,
   "id": "negative-posting",
   "metadata": {},
   "outputs": [],
   "source": [
    "plt.figure(figsize=(16, 10))\n",
    "plt.plot_date(\n",
    "    x=df_sub.index, y=df_sub, fmt=\"-\",\n",
    ")\n",
    "\n",
    "plt.ylim(top=plt.ylim()[1] * 1.1)  # stretching the top of the plot by 10%\n",
    "plt.title(\n",
    "    f\"subset of time series from {df_sub.index[0]:'%Y-%m-%d'} to {df_sub.index[-1]:'%Y-%m-%d'}\"\n",
    ")\n",
    "plt.savefig(f\"figs/{next(fig_num)}_subset_time_series.png\")\n",
    "plt.show();"
   ]
  },
  {
   "cell_type": "code",
   "execution_count": null,
   "id": "fresh-layout",
   "metadata": {},
   "outputs": [],
   "source": [
    "# convert the datetime to floats\n",
    "time_scaler = MinMaxScaler()\n",
    "\n",
    "# shape the inputs\n",
    "X = time_scaler.fit_transform(df.index.values.reshape(-1, 1))\n",
    "y = df.values.reshape(-1, 1)\n",
    "\n",
    "# fit the lin reg\n",
    "reg = LinearRegression().fit(X, y)"
   ]
  },
  {
   "cell_type": "code",
   "execution_count": null,
   "id": "ranking-starter",
   "metadata": {},
   "outputs": [],
   "source": [
    "# predict using the dates of the original time series\n",
    "predict_time_range = pd.date_range(start=df_sub.index[0], end=df.index[-1], freq=\"D\")\n",
    "X_predict = time_scaler.transform(predict_time_range.values.reshape(-1, 1))\n",
    "y_predict = reg.predict(X_predict)"
   ]
  },
  {
   "cell_type": "code",
   "execution_count": null,
   "id": "vocal-freight",
   "metadata": {},
   "outputs": [],
   "source": [
    "# plot the subset with\n",
    "plt.figure(figsize=(16, 10))\n",
    "plt.plot_date(x=df_sub.index, y=df_sub[\"y\"], fmt=\"-\", label=\"input time series\")\n",
    "plt.plot_date(\n",
    "    x=df_test.index, y=df_test[\"y\"], fmt=\"-\", label=\"out-of-sample time series\"\n",
    ")\n",
    "plt.plot_date(x=predict_time_range, y=y_predict, fmt=\"--\", label=\"linear regression\")\n",
    "plt.legend()\n",
    "plt.ylim(top=plt.ylim()[1] * 1.1)  # stretching the top of the plot by 10%\n",
    "plt.title(\"simple linear regression\")\n",
    "plt.savefig(f\"figs/{next(fig_num)}_subset_time_series_w_linreg.png\")\n",
    "plt.show();"
   ]
  },
  {
   "cell_type": "code",
   "execution_count": null,
   "id": "finite-google",
   "metadata": {},
   "outputs": [],
   "source": [
    "print(reg.intercept_)\n",
    "print(reg.coef_)"
   ]
  },
  {
   "cell_type": "code",
   "execution_count": null,
   "id": "third-waters",
   "metadata": {},
   "outputs": [],
   "source": [
    "df_sub = df_sub.assign(month=df_sub.index.month.values)"
   ]
  },
  {
   "cell_type": "code",
   "execution_count": null,
   "id": "continuing-julian",
   "metadata": {},
   "outputs": [],
   "source": [
    "df_sub.sample(n=6)"
   ]
  },
  {
   "cell_type": "code",
   "execution_count": null,
   "id": "literary-crowd",
   "metadata": {
    "tags": []
   },
   "outputs": [],
   "source": [
    "df_month = pd.get_dummies(df_sub, columns=[\"month\"], dtype=\"bool\")\n",
    "print(df_month.sample(n=6))\n",
    "print(df_month.info())"
   ]
  },
  {
   "cell_type": "code",
   "execution_count": null,
   "id": "failing-paste",
   "metadata": {},
   "outputs": [],
   "source": [
    "# plot the subset with\n",
    "plt.figure(figsize=(16, 10))\n",
    "plt.plot_date(x=df_month.index, y=df_month[\"y\"], fmt=\"-\", label=\"input time series\")\n",
    "plt.legend()\n",
    "for i in range(1,13):\n",
    "    plt.plot_date(x=df_month.index, y=df_month[f\"month_{i}\"], fmt=\"-\", label=f\"month {i}\")\n",
    "    \n",
    "    plt.title(f\"dummy variable for month 1 to {i}\")\n",
    "    plt.savefig(f\"figs/{next(fig_num)}_subset_time_series_w_month_{i}.png\")\n",
    "plt.show();"
   ]
  },
  {
   "cell_type": "code",
   "execution_count": null,
   "id": "vocational-porcelain",
   "metadata": {},
   "outputs": [],
   "source": [
    "# perform scaling to (0,1) range\n",
    "month_scaler = MinMaxScaler()\n"
   ]
  },
  {
   "cell_type": "code",
   "execution_count": null,
   "id": "assisted-discharge",
   "metadata": {},
   "outputs": [],
   "source": [
    "df_month.iloc[:,df_month.columns != 'y']"
   ]
  },
  {
   "cell_type": "code",
   "execution_count": null,
   "id": "annual-passport",
   "metadata": {},
   "outputs": [],
   "source": []
  }
 ],
 "metadata": {
  "kernelspec": {
   "display_name": "Python 3",
   "language": "python",
   "name": "python3"
  },
  "language_info": {
   "codemirror_mode": {
    "name": "ipython",
    "version": 3
   },
   "file_extension": ".py",
   "mimetype": "text/x-python",
   "name": "python",
   "nbconvert_exporter": "python",
   "pygments_lexer": "ipython3",
   "version": "3.8.8"
  }
 },
 "nbformat": 4,
 "nbformat_minor": 5
}
