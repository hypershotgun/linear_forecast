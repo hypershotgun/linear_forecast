{
 "cells": [
  {
   "cell_type": "markdown",
   "id": "89e0d6ff",
   "metadata": {},
   "source": [
    "### todo\n",
    "---\n",
    "add some metrics "
   ]
  },
  {
   "cell_type": "code",
   "execution_count": null,
   "id": "6ffa048d",
   "metadata": {},
   "outputs": [],
   "source": [
    "import gif\n",
    "import pandas as pd\n",
    "import matplotlib.pyplot as plt\n",
    "import numpy as np\n",
    "import seaborn as sns\n",
    "from sklearn.linear_model import LinearRegression\n",
    "from sklearn.preprocessing import MinMaxScaler\n",
    "from sklearn.metrics import mean_absolute_percentage_error, mean_squared_error, mean_absolute_error\n"
   ]
  },
  {
   "cell_type": "code",
   "execution_count": null,
   "id": "732340b3",
   "metadata": {},
   "outputs": [],
   "source": [
    "sns.set_style(\"darkgrid\")\n",
    "sns.set_context(\"talk\")\n"
   ]
  },
  {
   "cell_type": "code",
   "execution_count": null,
   "id": "a087313f",
   "metadata": {},
   "outputs": [],
   "source": [
    "def fig_number_gen():\n",
    "    \"\"\"generator that will yield 0 to inf    \n",
    "    \"\"\"\n",
    "    num = 0\n",
    "    while True:\n",
    "        yield num\n",
    "        num += 1\n",
    "\n",
    "fig_num = fig_number_gen()\n"
   ]
  },
  {
   "cell_type": "code",
   "execution_count": null,
   "id": "e02bfddb",
   "metadata": {},
   "outputs": [],
   "source": [
    "# loading time-series data\n",
    "df = pd.read_csv(\n",
    "    \"https://raw.githubusercontent.com/facebook/prophet/master/examples/example_wp_log_peyton_manning.csv\"\n",
    ")\n",
    "df[\"ds\"] = pd.to_datetime(df[\"ds\"])\n",
    "print(df.head())\n",
    "print(df.info())\n",
    "\n"
   ]
  },
  {
   "cell_type": "code",
   "execution_count": null,
   "id": "f2fe4e0c",
   "metadata": {},
   "outputs": [],
   "source": [
    "# subsetting the data\n",
    "df_train = df[(df[\"ds\"] >= \"01-01-2011\") & (df[\"ds\"] <= \"31-12-2014\")]\n",
    "df_test = df[(df[\"ds\"] > \"31-12-2014\")]\n",
    "\n",
    "# creating a train test frame for convience later\n",
    "df_train_test = pd.concat([df_train, df_test])\n"
   ]
  },
  {
   "cell_type": "code",
   "execution_count": null,
   "id": "c433d260",
   "metadata": {},
   "outputs": [],
   "source": [
    "plt.figure(figsize=(16, 10))\n",
    "plt.plot_date(x=df_train[\"ds\"], y=df_train[\"y\"], fmt=\"-\", label=\"train\", alpha=0.7)\n",
    "plt.plot_date(x=df_test[\"ds\"], y=df_test[\"y\"], fmt=\"-\", label=\"test\", alpha=0.7)\n",
    "\n",
    "plt.ylim(top=plt.ylim()[1] * 1.1)  # stretching the top of the plot by 10%\n",
    "plt.title(\n",
    "    f\"subset of time series from {df_train['ds'].iloc[0]:'%Y-%m-%d'} to {df_train['ds'].iloc[-1]:'%Y-%m-%d'}\"\n",
    ")\n",
    "plt.legend()\n",
    "plt.savefig(f\"figs/{next(fig_num)}_subset_time_series.png\")\n",
    "plt.show()\n",
    "\n"
   ]
  },
  {
   "cell_type": "code",
   "execution_count": null,
   "id": "052cbda1",
   "metadata": {},
   "outputs": [],
   "source": [
    "# convert the datetime to floats\n",
    "time_scaler = MinMaxScaler()\n",
    "\n",
    "# shape the inputs\n",
    "X_train = time_scaler.fit_transform(df_train.index.values.reshape(-1, 1))\n",
    "y_train = df_train[\"y\"].values.reshape(-1, 1)\n",
    "\n",
    "# fit the lin reg to the train set\n",
    "reg = LinearRegression().fit(X_train, y_train)"
   ]
  },
  {
   "cell_type": "code",
   "execution_count": null,
   "id": "7952db18",
   "metadata": {},
   "outputs": [],
   "source": [
    "# predict using the dates of the test set\n",
    "X_predict = time_scaler.transform(df_train_test.index.values.reshape(-1, 1))\n",
    "y_predict = reg.predict(X_predict)\n"
   ]
  },
  {
   "cell_type": "code",
   "execution_count": null,
   "id": "e05f8d8b",
   "metadata": {},
   "outputs": [],
   "source": [
    "# plot the subset with\n",
    "plt.figure(figsize=(16, 10))\n",
    "plt.plot_date(x=df_train[\"ds\"], y=df_train[\"y\"], fmt=\"-\", label=\"train\", alpha=0.7)\n",
    "plt.plot_date(x=df_test[\"ds\"], y=df_test[\"y\"], fmt=\"-\", label=\"test\", alpha=0.7)\n",
    "plt.ylim(top=plt.ylim()[1] * 1.1)  # stretching the top of the plot by 10%\n",
    "\n",
    "plt.plot_date(x=df_train_test[\"ds\"], y=y_predict, fmt=\"--\", label=\"linear regression\")\n",
    "plt.legend()\n",
    "plt.ylim(top=plt.ylim()[1] * 1.1)  # stretching the top of the plot by 10%\n",
    "plt.title(\"simple linear regression\")\n",
    "plt.savefig(f\"figs/{next(fig_num)}_subset_time_series_w_linreg.png\")\n",
    "plt.show()\n",
    "\n"
   ]
  },
  {
   "cell_type": "code",
   "execution_count": null,
   "id": "98647cb7",
   "metadata": {},
   "outputs": [],
   "source": [
    "print(reg.intercept_)\n",
    "print(reg.coef_)\n"
   ]
  },
  {
   "cell_type": "code",
   "execution_count": null,
   "id": "7b9e1da1",
   "metadata": {},
   "outputs": [],
   "source": [
    "# adding month dummies to train and test\n",
    "df_train_test = df_train_test.assign(month=df_train_test[\"ds\"].dt.month)\n",
    "df_train = df_train.assign(month=df_train[\"ds\"].dt.month)\n",
    "df_test = df_test.assign(month=df_test[\"ds\"].dt.month)\n",
    "\n",
    "df_train_test = pd.get_dummies(df_train_test, columns=[\"month\"], dtype=\"bool\")\n",
    "df_train = pd.get_dummies(df_train, columns=[\"month\"], dtype=\"bool\")\n",
    "df_test = pd.get_dummies(df_test, columns=[\"month\"], dtype=\"bool\")\n"
   ]
  },
  {
   "cell_type": "code",
   "execution_count": null,
   "id": "0e4709bd",
   "metadata": {},
   "outputs": [],
   "source": [
    "# plot the subset with\n",
    "plt.figure(figsize=(16, 10))\n",
    "plt.plot_date(x=df_train[\"ds\"], y=df_train[\"y\"], fmt=\"-\", label=\"train\")\n",
    "plt.legend()\n",
    "for i in range(1, 13):\n",
    "    plt.plot_date(\n",
    "        x=df_train[\"ds\"], y=df_train[f\"month_{i}\"], fmt=\"-\", label=f\"month {i}\"\n",
    "    )\n",
    "\n",
    "    plt.title(f\"dummy variable for month 1 to {i}\")\n",
    "    plt.savefig(f\"figs/{next(fig_num)}_subset_time_series_w_month_{i}.png\")\n",
    "\n",
    "plt.show()\n"
   ]
  },
  {
   "cell_type": "code",
   "execution_count": null,
   "id": "f18ef6bd",
   "metadata": {},
   "outputs": [],
   "source": [
    "# create gif w month dummy\n",
    "@gif.frame\n",
    "def subset_time_series_w_month_gif(i: int):\n",
    "    \"\"\"\n",
    "    i in range 1 up to and include 12\n",
    "    \"\"\"\n",
    "    plt.figure(figsize=(16, 10))\n",
    "    plt.plot_date(x=df_train[\"ds\"], y=df_train[\"y\"], fmt=\"-\", label=\"train\")\n",
    "    plt.legend()\n",
    "    for i in range(1, i):\n",
    "        plt.plot_date(\n",
    "            x=df_train[\"ds\"], y=df_train[f\"month_{i}\"], fmt=\"-\", label=f\"month {i}\"\n",
    "        )\n",
    "\n",
    "        plt.title(f\"dummy variable for month 1 to {i}\")\n",
    "\n",
    "\n",
    "frames = [subset_time_series_w_month_gif(i) for i in range(1, 14)][1:]\n",
    "gif.save(frames, f\"figs/{next(fig_num)}subset_time_series_w_month_gif.gif\", duration=400)\n"
   ]
  },
  {
   "cell_type": "code",
   "execution_count": null,
   "id": "788752c2",
   "metadata": {},
   "outputs": [],
   "source": [
    "# shape the inputs\n",
    "X_month = np.hstack(\n",
    "    [\n",
    "        time_scaler.fit_transform(df_train.index.values.reshape(-1, 1)),\n",
    "        df_train.loc[:, ~df_train.columns.isin([\"y\", \"ds\"])].values,\n",
    "    ]\n",
    ")\n",
    "y_month = df_train.loc[:, \"y\"].values.reshape(-1, 1)\n",
    "\n",
    "# fit the lin reg\n",
    "reg_month = LinearRegression().fit(X_month, y_month)\n",
    "\n",
    "# predict using the dates of the train and test set\n",
    "X_predict_month = np.hstack(\n",
    "    [\n",
    "        time_scaler.fit_transform(df_train_test.index.values.reshape(-1, 1)),\n",
    "        df_train_test.loc[:, ~df_train_test.columns.isin([\"y\", \"ds\"])].values,\n",
    "    ]\n",
    ")\n",
    "y_predict_month = reg_month.predict(X_predict_month)\n"
   ]
  },
  {
   "cell_type": "code",
   "execution_count": null,
   "id": "2c71db02",
   "metadata": {},
   "outputs": [],
   "source": [
    "# plot the subset with\n",
    "plt.figure(figsize=(16, 10))\n",
    "plt.plot_date(x=df_train[\"ds\"], y=df_train[\"y\"], fmt=\"-\", label=\"train\", alpha=0.7)\n",
    "plt.plot_date(x=df_test[\"ds\"], y=df_test[\"y\"], fmt=\"-\", label=\"test\", alpha=0.7)\n",
    "plt.ylim(top=plt.ylim()[1] * 1.1)  # stretching the top of the plot by 10%\n",
    "\n",
    "plt.plot_date(\n",
    "    x=df_train_test[\"ds\"],\n",
    "    y=y_predict_month,\n",
    "    fmt=\"--\",\n",
    "    label=\"linear regression w/ dummy month\",\n",
    "    c=sns.color_palette()[3],  # selecting this color, think it looks better\n",
    ")\n",
    "plt.legend()\n",
    "\n",
    "# plt.title(\"simple linear regression\")\n",
    "plt.savefig(f\"figs/{next(fig_num)}_subset_time_series_w_linreg.png\")\n",
    "plt.show()"
   ]
  },
  {
   "cell_type": "code",
   "execution_count": null,
   "id": "bc80bf65",
   "metadata": {},
   "outputs": [],
   "source": [
    "# Metrics\n",
    "X_predict = time_scaler.transform(df_test.index.values.reshape(-1, 1))\n",
    "\n",
    "X_predict_month = np.hstack(\n",
    "    [\n",
    "        time_scaler.fit_transform(df_test.index.values.reshape(-1, 1)),\n",
    "        df_test.loc[:, ~df_test.columns.isin([\"y\", \"ds\"])].values,\n",
    "    ]\n",
    ")\n",
    "\n",
    "y_predict = reg.predict(X_predict)\n",
    "y_predict_month = reg_month.predict(X_predict_month)\n",
    "\n",
    "metrics_ols = {\n",
    "    \"model\": \"no dummies\",\n",
    "    \"mse\": [mean_squared_error(y_true=df_test[\"y\"].values, y_pred=y_predict)],\n",
    "    \"mape\": [\n",
    "        mean_absolute_percentage_error(y_true=df_test[\"y\"].values, y_pred=y_predict)\n",
    "    ],\n",
    "    \"mae\":[ mean_absolute_error(y_true=df_test[\"y\"].values, y_pred=y_predict)],\n",
    "}\n",
    "\n",
    "\n",
    "metrics_month = {\n",
    "    \"model\": \"months\",\n",
    "    \"mse\": [mean_squared_error(y_true=df_test[\"y\"].values, y_pred=y_predict_month)],\n",
    "    \"mape\": [\n",
    "        mean_absolute_percentage_error(\n",
    "            y_true=df_test[\"y\"].values, y_pred=y_predict_month\n",
    "        )\n",
    "    ],\n",
    "    \"mae\":[ mean_absolute_error(y_true=df_test[\"y\"].values, y_pred=y_predict_month)],\n",
    "}\n",
    "\n"
   ]
  },
  {
   "cell_type": "code",
   "execution_count": null,
   "id": "e90fec5b",
   "metadata": {},
   "outputs": [],
   "source": [
    "df_metrics = pd.concat([pd.DataFrame( data= metrics_ols),pd.DataFrame( data= metrics_month)])\n",
    "df_metrics.head(10)"
   ]
  },
  {
   "cell_type": "markdown",
   "id": "3db02224",
   "metadata": {},
   "source": []
  }
 ],
 "metadata": {
  "interpreter": {
   "hash": "670b0bb49efa43f8d2bcfaa5bac87275253872cc6049e04ea4c254870d9ba8ee"
  },
  "kernelspec": {
   "display_name": "Python 3.9.5 64-bit ('data_science': conda)",
   "name": "python3"
  },
  "language_info": {
   "codemirror_mode": {
    "name": "ipython",
    "version": 3
   },
   "file_extension": ".py",
   "mimetype": "text/x-python",
   "name": "python",
   "nbconvert_exporter": "python",
   "pygments_lexer": "ipython3",
   "version": "3.9.5"
  }
 },
 "nbformat": 4,
 "nbformat_minor": 5
}
